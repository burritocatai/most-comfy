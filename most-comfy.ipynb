{
 "cells": [
  {
   "cell_type": "markdown",
   "id": "c1a795a4",
   "metadata": {},
   "source": [
    "# Automated ComfyUI on Brev"
   ]
  },
  {
   "cell_type": "markdown",
   "id": "bbb2d691",
   "metadata": {},
   "source": [
    "This notebook is modified from ..."
   ]
  },
  {
   "cell_type": "code",
   "execution_count": null,
   "id": "16808297-1050-4866-90cf-6bd145360343",
   "metadata": {},
   "outputs": [],
   "source": [
    "# Environment Setup\n",
    "\n",
    "from pathlib import Path\n",
    "\n",
    "OPTIONS = {}\n",
    "\n",
    "WORKSPACE = 'ComfyUI'\n",
    "\n",
    "#@markdown **Custom Nodes Repositories**\n",
    "NODES_REPOS = [\n",
    "    'https://github.com/ltdrdata/ComfyUI-Manager.git',\n",
    "    'https://github.com/ltdrdata/ComfyUI-Impact-Pack.git',\n",
    "    'https://github.com/ltdrdata/ComfyUI-Impact-Subpack.git',\n",
    "    'https://github.com/Suzie1/ComfyUI_Comfyroll_CustomNodes.git'\n",
    "]\n",
    "\n",
    "CIVITAI_MODELS = []\n",
    "HUGGINGFACE_MODELS = []\n",
    "\n",
    "OPTIONS['NODES_REPOS'] = NODES_REPOS\n",
    "OPTIONS['CIVITAI_MODELS'] = CIVITAI_MODELS\n",
    "OPTIONS['HUGGINGFACE_MODELS'] = HUGGINGFACE_MODELS"
   ]
  },
  {
   "cell_type": "code",
   "execution_count": 3,
   "id": "f2ff5d2a",
   "metadata": {},
   "outputs": [],
   "source": [
    "# Helper to download repos\n",
    "\n",
    "import os\n",
    "import re\n",
    "import subprocess\n",
    "import time\n",
    "from typing import List, Optional\n",
    "\n",
    "def clone_repo(repo_url: str, target_dir: str) -> None:\n",
    "    \"\"\"Clone a Git repository to the target directory.\"\"\"\n",
    "    # Extract repo name from URL (works with both HTTPS and SSH URLs)\n",
    "    repo_name = None\n",
    "    \n",
    "    # Try to match patterns for extracting repository name\n",
    "    https_pattern = r'.*/.*/(.*)\\.git$'\n",
    "    simple_pattern = r'.*/(.*)$'\n",
    "    \n",
    "    match = re.match(https_pattern, repo_url)\n",
    "    if match:\n",
    "        repo_name = match.group(1)\n",
    "    else:\n",
    "        match = re.match(simple_pattern, repo_url)\n",
    "        if match:\n",
    "            repo_name = match.group(1)\n",
    "    \n",
    "    # If we can't extract a name, use a timestamp\n",
    "    if not repo_name:\n",
    "        repo_name = f\"custom_repo_{int(time.time())}\"\n",
    "    \n",
    "    dest_path = os.path.join(target_dir, repo_name)\n",
    "    print(f\"Cloning repository: {repo_url} to {dest_path}\")\n",
    "    \n",
    "    # Clone the repository using subprocess\n",
    "    try:\n",
    "        result = subprocess.run(\n",
    "            [\"git\", \"clone\", repo_url, dest_path],\n",
    "            check=True,\n",
    "            capture_output=True,\n",
    "            text=True\n",
    "        )\n",
    "        print(f\"Successfully cloned {repo_url}\")\n",
    "    except subprocess.CalledProcessError as e:\n",
    "        print(f\"Failed to clone {repo_url}\")\n",
    "        print(f\"Error: {e.stderr}\")"
   ]
  },
  {
   "cell_type": "code",
   "execution_count": null,
   "id": "5ededb20-837d-447a-b968-489fca04802d",
   "metadata": {
    "scrolled": true
   },
   "outputs": [
    {
     "name": "stdout",
     "output_type": "stream",
     "text": [
      "Cloning repository: https://github.com/comfyanonymous/ComfyUI to ComfyUI\n",
      "Successfully cloned https://github.com/comfyanonymous/ComfyUI\n"
     ]
    }
   ],
   "source": [
    "# Clone ComfyUI\n",
    "\n",
    "target_dir = \"\"\n",
    "repo = \"https://github.com/comfyanonymous/ComfyUI\"\n",
    "\n",
    "clone_repo(repo, target_dir)"
   ]
  },
  {
   "cell_type": "code",
   "execution_count": 6,
   "id": "0449e675",
   "metadata": {},
   "outputs": [
    {
     "name": "stdout",
     "output_type": "stream",
     "text": [
      "Collecting comfyui-frontend-package==1.10.17 (from -r ComfyUI/requirements.txt (line 1))\n",
      "  Downloading comfyui_frontend_package-1.10.17-py3-none-any.whl.metadata (118 bytes)\n",
      "Collecting torch (from -r ComfyUI/requirements.txt (line 2))\n",
      "  Downloading torch-2.6.0-cp312-cp312-manylinux_2_28_aarch64.whl.metadata (28 kB)\n",
      "Collecting torchsde (from -r ComfyUI/requirements.txt (line 3))\n",
      "  Downloading torchsde-0.2.6-py3-none-any.whl.metadata (5.3 kB)\n",
      "Collecting torchvision (from -r ComfyUI/requirements.txt (line 4))\n",
      "  Downloading torchvision-0.21.0-cp312-cp312-manylinux_2_28_aarch64.whl.metadata (6.1 kB)\n",
      "Collecting torchaudio (from -r ComfyUI/requirements.txt (line 5))\n",
      "  Downloading torchaudio-2.6.0-cp312-cp312-manylinux_2_28_aarch64.whl.metadata (6.6 kB)\n",
      "Collecting numpy>=1.25.0 (from -r ComfyUI/requirements.txt (line 6))\n",
      "  Downloading numpy-2.2.3-cp312-cp312-manylinux_2_17_aarch64.manylinux2014_aarch64.whl.metadata (63 kB)\n",
      "Collecting einops (from -r ComfyUI/requirements.txt (line 7))\n",
      "  Downloading einops-0.8.1-py3-none-any.whl.metadata (13 kB)\n",
      "Collecting transformers>=4.28.1 (from -r ComfyUI/requirements.txt (line 8))\n",
      "  Downloading transformers-4.49.0-py3-none-any.whl.metadata (44 kB)\n",
      "Collecting tokenizers>=0.13.3 (from -r ComfyUI/requirements.txt (line 9))\n",
      "  Downloading tokenizers-0.21.0-cp39-abi3-manylinux_2_17_aarch64.manylinux2014_aarch64.whl.metadata (6.7 kB)\n",
      "Collecting sentencepiece (from -r ComfyUI/requirements.txt (line 10))\n",
      "  Downloading sentencepiece-0.2.0-cp312-cp312-manylinux_2_17_aarch64.manylinux2014_aarch64.whl.metadata (7.7 kB)\n",
      "Collecting safetensors>=0.4.2 (from -r ComfyUI/requirements.txt (line 11))\n",
      "  Downloading safetensors-0.5.3-cp38-abi3-manylinux_2_17_aarch64.manylinux2014_aarch64.whl.metadata (3.8 kB)\n",
      "Collecting aiohttp>=3.11.8 (from -r ComfyUI/requirements.txt (line 12))\n",
      "  Downloading aiohttp-3.11.13-cp312-cp312-manylinux_2_17_aarch64.manylinux2014_aarch64.whl.metadata (7.7 kB)\n",
      "Collecting yarl>=1.18.0 (from -r ComfyUI/requirements.txt (line 13))\n",
      "  Downloading yarl-1.18.3-cp312-cp312-manylinux_2_17_aarch64.manylinux2014_aarch64.whl.metadata (69 kB)\n",
      "Requirement already satisfied: pyyaml in /usr/local/lib/python3.12/site-packages (from -r ComfyUI/requirements.txt (line 14)) (6.0.2)\n",
      "Collecting Pillow (from -r ComfyUI/requirements.txt (line 15))\n",
      "  Downloading pillow-11.1.0-cp312-cp312-manylinux_2_28_aarch64.whl.metadata (9.1 kB)\n",
      "Collecting scipy (from -r ComfyUI/requirements.txt (line 16))\n",
      "  Downloading scipy-1.15.2-cp312-cp312-manylinux_2_17_aarch64.manylinux2014_aarch64.whl.metadata (61 kB)\n",
      "Collecting tqdm (from -r ComfyUI/requirements.txt (line 17))\n",
      "  Downloading tqdm-4.67.1-py3-none-any.whl.metadata (57 kB)\n",
      "Requirement already satisfied: psutil in /usr/local/lib/python3.12/site-packages (from -r ComfyUI/requirements.txt (line 18)) (7.0.0)\n",
      "Collecting kornia>=0.7.1 (from -r ComfyUI/requirements.txt (line 21))\n",
      "  Downloading kornia-0.8.0-py2.py3-none-any.whl.metadata (17 kB)\n",
      "Collecting spandrel (from -r ComfyUI/requirements.txt (line 22))\n",
      "  Downloading spandrel-0.4.1-py3-none-any.whl.metadata (15 kB)\n",
      "Collecting soundfile (from -r ComfyUI/requirements.txt (line 23))\n",
      "  Downloading soundfile-0.13.1-py2.py3-none-manylinux_2_28_aarch64.whl.metadata (16 kB)\n",
      "Collecting av (from -r ComfyUI/requirements.txt (line 24))\n",
      "  Downloading av-14.2.0-cp312-cp312-manylinux_2_17_aarch64.manylinux2014_aarch64.whl.metadata (4.6 kB)\n",
      "Collecting filelock (from torch->-r ComfyUI/requirements.txt (line 2))\n",
      "  Downloading filelock-3.17.0-py3-none-any.whl.metadata (2.9 kB)\n",
      "Requirement already satisfied: typing-extensions>=4.10.0 in /usr/local/lib/python3.12/site-packages (from torch->-r ComfyUI/requirements.txt (line 2)) (4.12.2)\n",
      "Requirement already satisfied: setuptools in /usr/local/lib/python3.12/site-packages (from torch->-r ComfyUI/requirements.txt (line 2)) (69.0.3)\n",
      "Collecting sympy==1.13.1 (from torch->-r ComfyUI/requirements.txt (line 2))\n",
      "  Downloading sympy-1.13.1-py3-none-any.whl.metadata (12 kB)\n",
      "Collecting networkx (from torch->-r ComfyUI/requirements.txt (line 2))\n",
      "  Downloading networkx-3.4.2-py3-none-any.whl.metadata (6.3 kB)\n",
      "Requirement already satisfied: jinja2 in /usr/local/lib/python3.12/site-packages (from torch->-r ComfyUI/requirements.txt (line 2)) (3.1.5)\n",
      "Collecting fsspec (from torch->-r ComfyUI/requirements.txt (line 2))\n",
      "  Downloading fsspec-2025.2.0-py3-none-any.whl.metadata (11 kB)\n",
      "Collecting mpmath<1.4,>=1.1.0 (from sympy==1.13.1->torch->-r ComfyUI/requirements.txt (line 2))\n",
      "  Downloading mpmath-1.3.0-py3-none-any.whl.metadata (8.6 kB)\n",
      "Collecting trampoline>=0.1.2 (from torchsde->-r ComfyUI/requirements.txt (line 3))\n",
      "  Downloading trampoline-0.1.2-py3-none-any.whl.metadata (10 kB)\n",
      "Collecting huggingface-hub<1.0,>=0.26.0 (from transformers>=4.28.1->-r ComfyUI/requirements.txt (line 8))\n",
      "  Downloading huggingface_hub-0.29.2-py3-none-any.whl.metadata (13 kB)\n",
      "Requirement already satisfied: packaging>=20.0 in /usr/local/lib/python3.12/site-packages (from transformers>=4.28.1->-r ComfyUI/requirements.txt (line 8)) (24.2)\n",
      "Collecting regex!=2019.12.17 (from transformers>=4.28.1->-r ComfyUI/requirements.txt (line 8))\n",
      "  Downloading regex-2024.11.6-cp312-cp312-manylinux_2_17_aarch64.manylinux2014_aarch64.whl.metadata (40 kB)\n",
      "Requirement already satisfied: requests in /usr/local/lib/python3.12/site-packages (from transformers>=4.28.1->-r ComfyUI/requirements.txt (line 8)) (2.32.3)\n",
      "Collecting aiohappyeyeballs>=2.3.0 (from aiohttp>=3.11.8->-r ComfyUI/requirements.txt (line 12))\n",
      "  Downloading aiohappyeyeballs-2.4.8-py3-none-any.whl.metadata (5.9 kB)\n",
      "Collecting aiosignal>=1.1.2 (from aiohttp>=3.11.8->-r ComfyUI/requirements.txt (line 12))\n",
      "  Downloading aiosignal-1.3.2-py2.py3-none-any.whl.metadata (3.8 kB)\n",
      "Requirement already satisfied: attrs>=17.3.0 in /usr/local/lib/python3.12/site-packages (from aiohttp>=3.11.8->-r ComfyUI/requirements.txt (line 12)) (25.1.0)\n",
      "Collecting frozenlist>=1.1.1 (from aiohttp>=3.11.8->-r ComfyUI/requirements.txt (line 12))\n",
      "  Downloading frozenlist-1.5.0-cp312-cp312-manylinux_2_17_aarch64.manylinux2014_aarch64.whl.metadata (13 kB)\n",
      "Collecting multidict<7.0,>=4.5 (from aiohttp>=3.11.8->-r ComfyUI/requirements.txt (line 12))\n",
      "  Downloading multidict-6.1.0-cp312-cp312-manylinux_2_17_aarch64.manylinux2014_aarch64.whl.metadata (5.0 kB)\n",
      "Collecting propcache>=0.2.0 (from aiohttp>=3.11.8->-r ComfyUI/requirements.txt (line 12))\n",
      "  Downloading propcache-0.3.0-cp312-cp312-manylinux_2_17_aarch64.manylinux2014_aarch64.whl.metadata (10 kB)\n",
      "Requirement already satisfied: idna>=2.0 in /usr/local/lib/python3.12/site-packages (from yarl>=1.18.0->-r ComfyUI/requirements.txt (line 13)) (3.10)\n",
      "Collecting kornia_rs>=0.1.0 (from kornia>=0.7.1->-r ComfyUI/requirements.txt (line 21))\n",
      "  Downloading kornia_rs-0.1.8-cp312-cp312-manylinux_2_17_aarch64.manylinux2014_aarch64.whl.metadata (10 kB)\n",
      "Requirement already satisfied: cffi>=1.0 in /usr/local/lib/python3.12/site-packages (from soundfile->-r ComfyUI/requirements.txt (line 23)) (1.17.1)\n",
      "Requirement already satisfied: pycparser in /usr/local/lib/python3.12/site-packages (from cffi>=1.0->soundfile->-r ComfyUI/requirements.txt (line 23)) (2.22)\n",
      "Requirement already satisfied: MarkupSafe>=2.0 in /usr/local/lib/python3.12/site-packages (from jinja2->torch->-r ComfyUI/requirements.txt (line 2)) (3.0.2)\n",
      "Requirement already satisfied: charset-normalizer<4,>=2 in /usr/local/lib/python3.12/site-packages (from requests->transformers>=4.28.1->-r ComfyUI/requirements.txt (line 8)) (3.4.1)\n",
      "Requirement already satisfied: urllib3<3,>=1.21.1 in /usr/local/lib/python3.12/site-packages (from requests->transformers>=4.28.1->-r ComfyUI/requirements.txt (line 8)) (2.3.0)\n",
      "Requirement already satisfied: certifi>=2017.4.17 in /usr/local/lib/python3.12/site-packages (from requests->transformers>=4.28.1->-r ComfyUI/requirements.txt (line 8)) (2025.1.31)\n",
      "Downloading comfyui_frontend_package-1.10.17-py3-none-any.whl (42.9 MB)\n",
      "\u001b[2K   \u001b[90m━━━━━━━━━━━━━━━━━━━━━━━━━━━━━━━━━━━━━━━━\u001b[0m \u001b[32m42.9/42.9 MB\u001b[0m \u001b[31m1.8 MB/s\u001b[0m eta \u001b[36m0:00:00\u001b[0m00:01\u001b[0m00:01\u001b[0m\n",
      "\u001b[?25hDownloading torch-2.6.0-cp312-cp312-manylinux_2_28_aarch64.whl (95.6 MB)\n",
      "\u001b[2K   \u001b[90m━━━━━━━━━━━━━━━━━━━━━━━━━━━━━━━━━━━━━━━━\u001b[0m \u001b[32m95.6/95.6 MB\u001b[0m \u001b[31m745.3 kB/s\u001b[0m eta \u001b[36m0:00:00\u001b[0m00:01\u001b[0m00:04\u001b[0m\n",
      "\u001b[?25hDownloading sympy-1.13.1-py3-none-any.whl (6.2 MB)\n",
      "\u001b[2K   \u001b[90m━━━━━━━━━━━━━━━━━━━━━━━━━━━━━━━━━━━━━━━━\u001b[0m \u001b[32m6.2/6.2 MB\u001b[0m \u001b[31m2.3 MB/s\u001b[0m eta \u001b[36m0:00:00\u001b[0ma \u001b[36m0:00:01\u001b[0m\n",
      "\u001b[?25hDownloading torchsde-0.2.6-py3-none-any.whl (61 kB)\n",
      "Downloading torchvision-0.21.0-cp312-cp312-manylinux_2_28_aarch64.whl (14.7 MB)\n",
      "\u001b[2K   \u001b[90m━━━━━━━━━━━━━━━━━━━━━━━━━━━━━━━━━━━━━━━━\u001b[0m \u001b[32m14.7/14.7 MB\u001b[0m \u001b[31m3.3 MB/s\u001b[0m eta \u001b[36m0:00:00\u001b[0m00:01\u001b[0m00:01\u001b[0m\n",
      "\u001b[?25hDownloading torchaudio-2.6.0-cp312-cp312-manylinux_2_28_aarch64.whl (1.7 MB)\n",
      "\u001b[2K   \u001b[90m━━━━━━━━━━━━━━━━━━━━━━━━━━━━━━━━━━━━━━━━\u001b[0m \u001b[32m1.7/1.7 MB\u001b[0m \u001b[31m3.1 MB/s\u001b[0m eta \u001b[36m0:00:00\u001b[0ma \u001b[36m0:00:01\u001b[0m\n",
      "\u001b[?25hDownloading numpy-2.2.3-cp312-cp312-manylinux_2_17_aarch64.manylinux2014_aarch64.whl (14.1 MB)\n",
      "\u001b[2K   \u001b[90m━━━━━━━━━━━━━━━━━━━━━━━━━━━━━━━━━━━━━━━━\u001b[0m \u001b[32m14.1/14.1 MB\u001b[0m \u001b[31m3.3 MB/s\u001b[0m eta \u001b[36m0:00:00\u001b[0ma \u001b[36m0:00:01\u001b[0m\n",
      "\u001b[?25hDownloading einops-0.8.1-py3-none-any.whl (64 kB)\n",
      "Downloading transformers-4.49.0-py3-none-any.whl (10.0 MB)\n",
      "\u001b[2K   \u001b[90m━━━━━━━━━━━━━━━━━━━━━━━━━━━━━━━━━━━━━━━━\u001b[0m \u001b[32m10.0/10.0 MB\u001b[0m \u001b[31m3.3 MB/s\u001b[0m eta \u001b[36m0:00:00\u001b[0m00:01\u001b[0m0:01\u001b[0m\n",
      "\u001b[?25hDownloading tokenizers-0.21.0-cp39-abi3-manylinux_2_17_aarch64.manylinux2014_aarch64.whl (2.9 MB)\n",
      "\u001b[2K   \u001b[90m━━━━━━━━━━━━━━━━━━━━━━━━━━━━━━━━━━━━━━━━\u001b[0m \u001b[32m2.9/2.9 MB\u001b[0m \u001b[31m3.3 MB/s\u001b[0m eta \u001b[36m0:00:00\u001b[0ma \u001b[36m0:00:01\u001b[0m\n",
      "\u001b[?25hDownloading sentencepiece-0.2.0-cp312-cp312-manylinux_2_17_aarch64.manylinux2014_aarch64.whl (1.3 MB)\n",
      "\u001b[2K   \u001b[90m━━━━━━━━━━━━━━━━━━━━━━━━━━━━━━━━━━━━━━━━\u001b[0m \u001b[32m1.3/1.3 MB\u001b[0m \u001b[31m3.3 MB/s\u001b[0m eta \u001b[36m0:00:00\u001b[0ma \u001b[36m0:00:01\u001b[0m\n",
      "\u001b[?25hDownloading safetensors-0.5.3-cp38-abi3-manylinux_2_17_aarch64.manylinux2014_aarch64.whl (459 kB)\n",
      "Downloading aiohttp-3.11.13-cp312-cp312-manylinux_2_17_aarch64.manylinux2014_aarch64.whl (1.7 MB)\n",
      "\u001b[2K   \u001b[90m━━━━━━━━━━━━━━━━━━━━━━━━━━━━━━━━━━━━━━━━\u001b[0m \u001b[32m1.7/1.7 MB\u001b[0m \u001b[31m3.3 MB/s\u001b[0m eta \u001b[36m0:00:00\u001b[0ma \u001b[36m0:00:01\u001b[0m\n",
      "\u001b[?25hDownloading yarl-1.18.3-cp312-cp312-manylinux_2_17_aarch64.manylinux2014_aarch64.whl (332 kB)\n",
      "Downloading pillow-11.1.0-cp312-cp312-manylinux_2_28_aarch64.whl (4.4 MB)\n",
      "\u001b[2K   \u001b[90m━━━━━━━━━━━━━━━━━━━━━━━━━━━━━━━━━━━━━━━━\u001b[0m \u001b[32m4.4/4.4 MB\u001b[0m \u001b[31m3.3 MB/s\u001b[0m eta \u001b[36m0:00:00\u001b[0ma \u001b[36m0:00:01\u001b[0m\n",
      "\u001b[?25hDownloading scipy-1.15.2-cp312-cp312-manylinux_2_17_aarch64.manylinux2014_aarch64.whl (35.2 MB)\n",
      "\u001b[2K   \u001b[90m━━━━━━━━━━━━━━━━━━━━━━━━━━━━━━━━━━━━━━━━\u001b[0m \u001b[32m35.2/35.2 MB\u001b[0m \u001b[31m3.3 MB/s\u001b[0m eta \u001b[36m0:00:00\u001b[0m00:01\u001b[0m00:01\u001b[0m\n",
      "\u001b[?25hDownloading tqdm-4.67.1-py3-none-any.whl (78 kB)\n",
      "Downloading kornia-0.8.0-py2.py3-none-any.whl (1.1 MB)\n",
      "\u001b[2K   \u001b[90m━━━━━━━━━━━━━━━━━━━━━━━━━━━━━━━━━━━━━━━━\u001b[0m \u001b[32m1.1/1.1 MB\u001b[0m \u001b[31m3.2 MB/s\u001b[0m eta \u001b[36m0:00:00\u001b[0ma \u001b[36m0:00:01\u001b[0m\n",
      "\u001b[?25hDownloading spandrel-0.4.1-py3-none-any.whl (305 kB)\n",
      "Downloading soundfile-0.13.1-py2.py3-none-manylinux_2_28_aarch64.whl (1.2 MB)\n",
      "\u001b[2K   \u001b[90m━━━━━━━━━━━━━━━━━━━━━━━━━━━━━━━━━━━━━━━━\u001b[0m \u001b[32m1.2/1.2 MB\u001b[0m \u001b[31m3.3 MB/s\u001b[0m eta \u001b[36m0:00:00\u001b[0ma \u001b[36m0:00:01\u001b[0m\n",
      "\u001b[?25hDownloading av-14.2.0-cp312-cp312-manylinux_2_17_aarch64.manylinux2014_aarch64.whl (37.7 MB)\n",
      "\u001b[2K   \u001b[91m━━\u001b[0m\u001b[90m╺\u001b[0m\u001b[90m━━━━━━━━━━━━━━━━━━━━━━━━━━━━━━━━━━━━━\u001b[0m \u001b[32m2.1/37.7 MB\u001b[0m \u001b[31m3.5 MB/s\u001b[0m eta \u001b[36m0:00:11\u001b[0m\n",
      "\u001b[?25hDownloading aiohappyeyeballs-2.4.8-py3-none-any.whl (15 kB)\n",
      "Downloading aiosignal-1.3.2-py2.py3-none-any.whl (7.6 kB)\n",
      "Downloading frozenlist-1.5.0-cp312-cp312-manylinux_2_17_aarch64.manylinux2014_aarch64.whl (282 kB)\n",
      "Downloading huggingface_hub-0.29.2-py3-none-any.whl (468 kB)\n",
      "Downloading fsspec-2025.2.0-py3-none-any.whl (184 kB)\n",
      "Downloading kornia_rs-0.1.8-cp312-cp312-manylinux_2_17_aarch64.manylinux2014_aarch64.whl (1.8 MB)\n",
      "\u001b[2K   \u001b[90m━━━━━━━━━━━━━━━━━━━━━━━━━━━━━━━━━━━━━━━━\u001b[0m \u001b[32m1.8/1.8 MB\u001b[0m \u001b[31m956.9 kB/s\u001b[0m eta \u001b[36m0:00:00\u001b[0ma \u001b[36m0:00:01\u001b[0m\n",
      "\u001b[?25hDownloading multidict-6.1.0-cp312-cp312-manylinux_2_17_aarch64.manylinux2014_aarch64.whl (130 kB)\n",
      "Downloading propcache-0.3.0-cp312-cp312-manylinux_2_17_aarch64.manylinux2014_aarch64.whl (242 kB)\n",
      "Downloading regex-2024.11.6-cp312-cp312-manylinux_2_17_aarch64.manylinux2014_aarch64.whl (794 kB)\n",
      "\u001b[2K   \u001b[90m━━━━━━━━━━━━━━━━━━━━━━━━━━━━━━━━━━━━━━━━\u001b[0m \u001b[32m795.0/795.0 kB\u001b[0m \u001b[31m1.4 MB/s\u001b[0m eta \u001b[36m0:00:00\u001b[0ma \u001b[36m0:00:01\u001b[0m\n",
      "\u001b[?25hDownloading trampoline-0.1.2-py3-none-any.whl (5.2 kB)\n",
      "Downloading filelock-3.17.0-py3-none-any.whl (16 kB)\n",
      "Downloading networkx-3.4.2-py3-none-any.whl (1.7 MB)\n",
      "\u001b[2K   \u001b[90m━━━━━━━━━━━━━━━━━━━━━━━━━━━━━━━━━━━━━━━━\u001b[0m \u001b[32m1.7/1.7 MB\u001b[0m \u001b[31m1.5 MB/s\u001b[0m eta \u001b[36m0:00:00\u001b[0ma \u001b[36m0:00:01\u001b[0m\n",
      "\u001b[?25hDownloading mpmath-1.3.0-py3-none-any.whl (536 kB)\n",
      "\u001b[2K   \u001b[90m━━━━━━━━━━━━━━━━━━━━━━━━━━━━━━━━━━━━━━━━\u001b[0m \u001b[32m536.2/536.2 kB\u001b[0m \u001b[31m1.4 MB/s\u001b[0m eta \u001b[36m0:00:00\u001b[0m-:--:--\u001b[0m\n",
      "\u001b[?25h\u001b[31mERROR: THESE PACKAGES DO NOT MATCH THE HASHES FROM THE REQUIREMENTS FILE. If you have updated the package versions, please update the hashes. Otherwise, examine the package contents carefully; someone may have tampered with them.\n",
      "    unknown package:\n",
      "        Expected sha256 897be9a665c365dfcf0c10a257fe223521ed4d3b478e6b258f55f7cd13fdedd3\n",
      "             Got        1af870ab97e311253c81662411558ccc26246f75ed7caa4532341de37a609117\n",
      "\u001b[0m\u001b[31m\n",
      "\u001b[0mNote: you may need to restart the kernel to use updated packages.\n"
     ]
    }
   ],
   "source": [
    "# Install Requirements\n",
    "import os\n",
    "\n",
    "%pip install -r ComfyUI/requirements.txt"
   ]
  },
  {
   "cell_type": "markdown",
   "id": "478acf97-9201-4b6e-b9b8-83eb82894017",
   "metadata": {
    "scrolled": true
   },
   "source": [
    "Now move on to the custom nodes for this install"
   ]
  },
  {
   "cell_type": "code",
   "execution_count": null,
   "id": "74be802a",
   "metadata": {},
   "outputs": [
    {
     "name": "stdout",
     "output_type": "stream",
     "text": [
      "Cloning 4 repositories from OPTIONS['NODES_REPOS']\n",
      "Cloning repository: https://github.com/ltdrdata/ComfyUI-Manager.git to ComfyUI/custom_nodes/ComfyUI-Manager\n",
      "Successfully cloned https://github.com/ltdrdata/ComfyUI-Manager.git\n",
      "Cloning repository: https://github.com/ltdrdata/ComfyUI-Impact-Pack.git to ComfyUI/custom_nodes/ComfyUI-Impact-Pack\n",
      "Successfully cloned https://github.com/ltdrdata/ComfyUI-Impact-Pack.git\n",
      "Cloning repository: https://github.com/ltdrdata/ComfyUI-Impact-Subpack.git to ComfyUI/custom_nodes/ComfyUI-Impact-Subpack\n",
      "Successfully cloned https://github.com/ltdrdata/ComfyUI-Impact-Subpack.git\n",
      "Cloning repository: https://github.com/Suzie1/ComfyUI_Comfyroll_CustomNodes.git to ComfyUI/custom_nodes/ComfyUI_Comfyroll_CustomNodes\n"
     ]
    }
   ],
   "source": [
    "\n",
    "# Get the target directory from environment variable or use a default\n",
    "target_dir = \"ComfyUI/custom_nodes\"\n",
    "\n",
    "# Check if repositories are specified in OPTIONS\n",
    "if 'NODES_REPOS' in OPTIONS and OPTIONS['NODES_REPOS']:\n",
    "    repos = OPTIONS['NODES_REPOS']  # This is already an array of GitHub repos\n",
    "    print(f\"Cloning {len(repos)} repositories from OPTIONS['NODES_REPOS']\")\n",
    "    \n",
    "    for repo in repos:\n",
    "        if repo:  # Make sure the repo URL is not empty\n",
    "            clone_repo(repo, target_dir)\n",
    "else:\n",
    "    print(\"No custom nodes specified in OPTIONS['NODES_REPOS']\")"
   ]
  },
  {
   "cell_type": "code",
   "execution_count": null,
   "id": "1ca77597",
   "metadata": {},
   "outputs": [],
   "source": [
    "import os\n",
    "import subprocess\n",
    "import glob\n",
    "\n",
    "# Get all directories within custom_nodes/\n",
    "custom_node_dirs = glob.glob('custom_nodes/*/')\n",
    "\n",
    "for dir_path in custom_node_dirs:\n",
    "    req_file = os.path.join(dir_path, 'requirements.txt')\n",
    "    \n",
    "    # Check if requirements.txt exists in the directory\n",
    "    if os.path.isfile(req_file):\n",
    "        print(f\"Installing requirements in {dir_path}\")\n",
    "        # Run pip install for the requirements file\n",
    "        subprocess.check_call(['pip', 'install', '-r', req_file])"
   ]
  },
  {
   "cell_type": "code",
   "execution_count": null,
   "id": "b635f87a-223d-4cbc-838f-8c96bbc048c0",
   "metadata": {
    "scrolled": true
   },
   "outputs": [],
   "source": [
    "import os\n",
    "!pip install huggingface_hub"
   ]
  },
  {
   "cell_type": "code",
   "execution_count": null,
   "id": "99232352-eb07-48d7-ace1-f97a9df69a00",
   "metadata": {
    "scrolled": true
   },
   "outputs": [],
   "source": [
    "!wget -c https://huggingface.co/runwayml/stable-diffusion-v1-5/resolve/main/v1-5-pruned-emaonly.ckpt -P ./models/checkpoints/"
   ]
  },
  {
   "cell_type": "code",
   "execution_count": null,
   "id": "d2b01186-5526-43e0-9d09-63cc34d41c48",
   "metadata": {
    "scrolled": true
   },
   "outputs": [],
   "source": [
    "!wget -c https://huggingface.co/stabilityai/sd-vae-ft-mse-original/resolve/main/vae-ft-mse-840000-ema-pruned.safetensors -P ./models/vae/"
   ]
  },
  {
   "cell_type": "code",
   "execution_count": null,
   "id": "7f2b03f4-90fe-467f-b020-1370ab819274",
   "metadata": {},
   "outputs": [],
   "source": [
    "import subprocess\n",
    "import threading\n",
    "import time\n",
    "import socket\n",
    "\n",
    "def check_server(port):\n",
    "    while True:\n",
    "        with socket.socket(socket.AF_INET, socket.SOCK_STREAM) as sock:\n",
    "            result = sock.connect_ex(('127.0.0.1', port))\n",
    "            if result == 0:\n",
    "                print(\"\\nServer is up and running at http://129.80.69.99:{}\".format(port))\n",
    "                break\n",
    "            time.sleep(0.5)\n",
    "\n",
    "threading.Thread(target=check_server, daemon=True, args=(8188,)).start()"
   ]
  },
  {
   "cell_type": "code",
   "execution_count": null,
   "id": "35d97a31-1697-4ab3-82fb-d81fa7d43963",
   "metadata": {
    "scrolled": true
   },
   "outputs": [],
   "source": [
    "!python main.py --listen 0.0.0.0 --port 8188 --dont-print-server --disable-xformers"
   ]
  },
  {
   "cell_type": "code",
   "execution_count": null,
   "id": "a1b6853f-af32-4543-80aa-9b86b275d42a",
   "metadata": {},
   "outputs": [],
   "source": [
    "def check_server(port):\n",
    "    while True:\n",
    "        with socket.socket(socket.AF_INET, socket.SOCK_STREAM) as sock:\n",
    "            result = sock.connect_ex(('127.0.0.1', port))\n",
    "            if result == 0:\n",
    "                print(\"\\nServer is up and running at http://129.80.69.99:{}\".format(port))\n",
    "                break\n",
    "            time.sleep(0.5)\n",
    "\n",
    "threading.Thread(target=check_server, daemon=True, args=(8188,)).start()"
   ]
  }
 ],
 "metadata": {
  "kernelspec": {
   "display_name": "Python 3",
   "language": "python",
   "name": "python3"
  },
  "language_info": {
   "codemirror_mode": {
    "name": "ipython",
    "version": 3
   },
   "file_extension": ".py",
   "mimetype": "text/x-python",
   "name": "python",
   "nbconvert_exporter": "python",
   "pygments_lexer": "ipython3",
   "version": "3.12.1"
  }
 },
 "nbformat": 4,
 "nbformat_minor": 5
}
