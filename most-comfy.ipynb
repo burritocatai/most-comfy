{
 "cells": [
  {
   "cell_type": "markdown",
   "id": "c1a795a4",
   "metadata": {},
   "source": [
    "# Automated ComfyUI on Brev"
   ]
  },
  {
   "cell_type": "markdown",
   "id": "bbb2d691",
   "metadata": {},
   "source": [
    "This notebook is modified from ..."
   ]
  },
  {
   "cell_type": "code",
   "execution_count": null,
   "id": "16808297-1050-4866-90cf-6bd145360343",
   "metadata": {},
   "outputs": [],
   "source": [
    "# Environment Setup\n",
    "\n",
    "from pathlib import Path\n",
    "\n",
    "OPTIONS = {}\n",
    "\n",
    "WORKSPACE = 'ComfyUI'\n",
    "\n",
    "#@markdown **Custom Nodes Repositories**\n",
    "NODES_REPOS = [\n",
    "    'https://github.com/ltdrdata/ComfyUI-Manager.git',\n",
    "    'https://github.com/ltdrdata/ComfyUI-Impact-Pack.git',\n",
    "    'https://github.com/ltdrdata/ComfyUI-Impact-Subpack.git',\n",
    "    'https://github.com/Suzie1/ComfyUI_Comfyroll_CustomNodes.git'\n",
    "]\n",
    "\n",
    "CIVITAI_MODELS = []\n",
    "HUGGINGFACE_MODELS = []\n",
    "\n",
    "OPTIONS['NODES_REPOS'] = NODES_REPOS\n",
    "OPTIONS['CIVITAI_MODELS'] = CIVITAI_MODELS\n",
    "OPTIONS['HUGGINGFACE_MODELS'] = HUGGINGFACE_MODELS"
   ]
  },
  {
   "cell_type": "code",
   "execution_count": null,
   "id": "f2ff5d2a",
   "metadata": {},
   "outputs": [],
   "source": [
    "# Helper to download repos\n",
    "\n",
    "import os\n",
    "import re\n",
    "import subprocess\n",
    "import time\n",
    "from typing import List, Optional\n",
    "\n",
    "def clone_repo(repo_url: str, target_dir: str) -> None:\n",
    "    \"\"\"Clone a Git repository to the target directory.\"\"\"\n",
    "    # Extract repo name from URL (works with both HTTPS and SSH URLs)\n",
    "    repo_name = None\n",
    "    \n",
    "    # Try to match patterns for extracting repository name\n",
    "    https_pattern = r'.*/.*/(.*)\\.git$'\n",
    "    simple_pattern = r'.*/(.*)$'\n",
    "    \n",
    "    match = re.match(https_pattern, repo_url)\n",
    "    if match:\n",
    "        repo_name = match.group(1)\n",
    "    else:\n",
    "        match = re.match(simple_pattern, repo_url)\n",
    "        if match:\n",
    "            repo_name = match.group(1)\n",
    "    \n",
    "    # If we can't extract a name, use a timestamp\n",
    "    if not repo_name:\n",
    "        repo_name = f\"custom_repo_{int(time.time())}\"\n",
    "    \n",
    "    dest_path = os.path.join(target_dir, repo_name)\n",
    "    print(f\"Cloning repository: {repo_url} to {dest_path}\")\n",
    "    \n",
    "    # Clone the repository using subprocess\n",
    "    try:\n",
    "        result = subprocess.run(\n",
    "            [\"git\", \"clone\", repo_url, dest_path],\n",
    "            check=True,\n",
    "            capture_output=True,\n",
    "            text=True\n",
    "        )\n",
    "        print(f\"Successfully cloned {repo_url}\")\n",
    "    except subprocess.CalledProcessError as e:\n",
    "        print(f\"Failed to clone {repo_url}\")\n",
    "        print(f\"Error: {e.stderr}\")"
   ]
  },
  {
   "cell_type": "code",
   "execution_count": null,
   "id": "5ededb20-837d-447a-b968-489fca04802d",
   "metadata": {
    "scrolled": true
   },
   "outputs": [],
   "source": [
    "# Clone ComfyUI\n",
    "\n",
    "target_dir = \"\"\n",
    "repo = \"https://github.com/comfyanonymous/ComfyUI\"\n",
    "\n",
    "clone_repo(repo, target_dir)"
   ]
  },
  {
   "cell_type": "code",
   "execution_count": null,
   "id": "0449e675",
   "metadata": {},
   "outputs": [],
   "source": [
    "# Install Requirements\n",
    "import os\n",
    "\n",
    "%pip install -r ComfyUI/requirements.txt"
   ]
  },
  {
   "cell_type": "markdown",
   "id": "478acf97-9201-4b6e-b9b8-83eb82894017",
   "metadata": {
    "scrolled": true
   },
   "source": [
    "Now move on to the custom nodes for this install"
   ]
  },
  {
   "cell_type": "code",
   "execution_count": null,
   "id": "74be802a",
   "metadata": {},
   "outputs": [],
   "source": [
    "\n",
    "# Get the target directory from environment variable or use a default\n",
    "target_dir = \"ComfyUI/custom_nodes\"\n",
    "\n",
    "# Check if repositories are specified in OPTIONS\n",
    "if 'NODES_REPOS' in OPTIONS and OPTIONS['NODES_REPOS']:\n",
    "    repos = OPTIONS['NODES_REPOS']  # This is already an array of GitHub repos\n",
    "    print(f\"Cloning {len(repos)} repositories from OPTIONS['NODES_REPOS']\")\n",
    "    \n",
    "    for repo in repos:\n",
    "        if repo:  # Make sure the repo URL is not empty\n",
    "            clone_repo(repo, target_dir)\n",
    "else:\n",
    "    print(\"No custom nodes specified in OPTIONS['NODES_REPOS']\")"
   ]
  },
  {
   "cell_type": "code",
   "execution_count": null,
   "id": "1ca77597",
   "metadata": {},
   "outputs": [],
   "source": [
    "import os\n",
    "import subprocess\n",
    "import glob\n",
    "\n",
    "# Get all directories within custom_nodes/\n",
    "custom_node_dirs = glob.glob('custom_nodes/*/')\n",
    "\n",
    "for dir_path in custom_node_dirs:\n",
    "    req_file = os.path.join(dir_path, 'requirements.txt')\n",
    "    \n",
    "    # Check if requirements.txt exists in the directory\n",
    "    if os.path.isfile(req_file):\n",
    "        print(f\"Installing requirements in {dir_path}\")\n",
    "        # Run pip install for the requirements file\n",
    "        subprocess.check_call(['pip', 'install', '-r', req_file])"
   ]
  },
  {
   "cell_type": "code",
   "execution_count": null,
   "id": "b635f87a-223d-4cbc-838f-8c96bbc048c0",
   "metadata": {
    "scrolled": true
   },
   "outputs": [],
   "source": [
    "import os\n",
    "!pip install huggingface_hub"
   ]
  },
  {
   "cell_type": "code",
   "execution_count": null,
   "id": "99232352-eb07-48d7-ace1-f97a9df69a00",
   "metadata": {
    "scrolled": true
   },
   "outputs": [],
   "source": [
    "!wget -c https://huggingface.co/runwayml/stable-diffusion-v1-5/resolve/main/v1-5-pruned-emaonly.ckpt -P ./models/checkpoints/"
   ]
  },
  {
   "cell_type": "code",
   "execution_count": null,
   "id": "d2b01186-5526-43e0-9d09-63cc34d41c48",
   "metadata": {
    "scrolled": true
   },
   "outputs": [],
   "source": [
    "!wget -c https://huggingface.co/stabilityai/sd-vae-ft-mse-original/resolve/main/vae-ft-mse-840000-ema-pruned.safetensors -P ./models/vae/"
   ]
  },
  {
   "cell_type": "code",
   "execution_count": null,
   "id": "7f2b03f4-90fe-467f-b020-1370ab819274",
   "metadata": {},
   "outputs": [],
   "source": [
    "import subprocess\n",
    "import threading\n",
    "import time\n",
    "import socket\n",
    "\n",
    "def check_server(port):\n",
    "    while True:\n",
    "        with socket.socket(socket.AF_INET, socket.SOCK_STREAM) as sock:\n",
    "            result = sock.connect_ex(('127.0.0.1', port))\n",
    "            if result == 0:\n",
    "                print(\"\\nServer is up and running at http://129.80.69.99:{}\".format(port))\n",
    "                break\n",
    "            time.sleep(0.5)\n",
    "\n",
    "threading.Thread(target=check_server, daemon=True, args=(8188,)).start()"
   ]
  },
  {
   "cell_type": "code",
   "execution_count": null,
   "id": "35d97a31-1697-4ab3-82fb-d81fa7d43963",
   "metadata": {
    "scrolled": true
   },
   "outputs": [],
   "source": [
    "!python main.py --listen 0.0.0.0 --port 8188 --dont-print-server --disable-xformers"
   ]
  },
  {
   "cell_type": "code",
   "execution_count": null,
   "id": "a1b6853f-af32-4543-80aa-9b86b275d42a",
   "metadata": {},
   "outputs": [],
   "source": [
    "def check_server(port):\n",
    "    while True:\n",
    "        with socket.socket(socket.AF_INET, socket.SOCK_STREAM) as sock:\n",
    "            result = sock.connect_ex(('127.0.0.1', port))\n",
    "            if result == 0:\n",
    "                print(\"\\nServer is up and running at http://129.80.69.99:{}\".format(port))\n",
    "                break\n",
    "            time.sleep(0.5)\n",
    "\n",
    "threading.Thread(target=check_server, daemon=True, args=(8188,)).start()"
   ]
  }
 ],
 "metadata": {
  "kernelspec": {
   "display_name": "Python 3",
   "language": "python",
   "name": "python3"
  },
  "language_info": {
   "codemirror_mode": {
    "name": "ipython",
    "version": 3
   },
   "file_extension": ".py",
   "mimetype": "text/x-python",
   "name": "python",
   "nbconvert_exporter": "python",
   "pygments_lexer": "ipython3",
   "version": "3.12.1"
  }
 },
 "nbformat": 4,
 "nbformat_minor": 5
}
